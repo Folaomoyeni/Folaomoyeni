{
  "nbformat": 4,
  "nbformat_minor": 0,
  "metadata": {
    "colab": {
      "name": "Conda.ipynb",
      "provenance": [],
      "toc_visible": true,
      "authorship_tag": "ABX9TyMjV4iEGjqTXJs8v0vqpi/z",
      "include_colab_link": true
    },
    "kernelspec": {
      "name": "python3",
      "display_name": "Python 3"
    },
    "language_info": {
      "name": "python"
    }
  },
  "cells": [
    {
      "cell_type": "markdown",
      "metadata": {
        "id": "view-in-github",
        "colab_type": "text"
      },
      "source": [
        "<a href=\"https://colab.research.google.com/github/Folaomoyeni/Folaomoyeni/blob/main/Conda.ipynb\" target=\"_parent\"><img src=\"https://colab.research.google.com/assets/colab-badge.svg\" alt=\"Open In Colab\"/></a>"
      ]
    },
    {
      "cell_type": "markdown",
      "source": [
        "# **Conda**\n",
        "\n",
        "\n",
        "Conda is a command line tool that runs on Windows, Mac OS and Linux. The two 2 main uses of conda are:\n",
        "\n",
        "1) Installing, running and updating python libraries/packages, including dependencies (other packages required for the ones you need to install)\n",
        "\n",
        "2) Creating and switching between virtual environments created for specific projects - (venv)\n",
        "\n",
        "\n"
      ],
      "metadata": {
        "id": "EgAQD4HXYJc5"
      }
    },
    {
      "cell_type": "markdown",
      "source": [
        "# Conda install\n",
        "\n"
      ],
      "metadata": {
        "id": "qa57QgnZbIot"
      }
    },
    {
      "cell_type": "markdown",
      "source": [
        "By running conda, it will give you a list of different commands it can execute. one example is installing the  library 'panda'"
      ],
      "metadata": {
        "id": "-t6rVTOTZ29J"
      }
    },
    {
      "cell_type": "code",
      "source": [
        "conda install <library_name>"
      ],
      "metadata": {
        "colab": {
          "base_uri": "https://localhost:8080/",
          "height": 130
        },
        "id": "-r2my6kHZoLs",
        "outputId": "ec90eaab-32ed-4d3c-db8a-6bbc57d0c9e4"
      },
      "execution_count": 2,
      "outputs": [
        {
          "output_type": "error",
          "ename": "SyntaxError",
          "evalue": "ignored",
          "traceback": [
            "\u001b[0;36m  File \u001b[0;32m\"<ipython-input-2-00735e37caef>\"\u001b[0;36m, line \u001b[0;32m1\u001b[0m\n\u001b[0;31m    conda install <library_name>\u001b[0m\n\u001b[0m                ^\u001b[0m\n\u001b[0;31mSyntaxError\u001b[0m\u001b[0;31m:\u001b[0m invalid syntax\n"
          ]
        }
      ]
    },
    {
      "cell_type": "markdown",
      "source": [
        "# Conda create"
      ],
      "metadata": {
        "id": "zRmRu3nNbctM"
      }
    },
    {
      "cell_type": "markdown",
      "source": [
        "You may need virtual environments for:\n",
        "- minimising the amount of space each project takes, increasing its portability\n",
        "- working with different versions of certain programmes for each unique project without disrupting another project should the environment need to be altered in any way\n"
      ],
      "metadata": {
        "id": "STEqGT_Uas2R"
      }
    },
    {
      "cell_type": "code",
      "source": [
        "conda create -n <environment_name>"
      ],
      "metadata": {
        "id": "s7gkgFo7asCz"
      },
      "execution_count": null,
      "outputs": []
    }
  ]
}